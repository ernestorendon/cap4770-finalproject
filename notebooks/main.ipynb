{
 "cells": [
  {
   "cell_type": "code",
   "execution_count": 2,
   "metadata": {},
   "outputs": [
    {
     "name": "stdout",
     "output_type": "stream",
     "text": [
      "{'_id': ObjectId('6692ad7388365a953ad9eae8'), 'date': datetime.datetime(1930, 5, 25, 0, 0), 'home_team': 'Romania', 'away_team': 'Greece', 'home_score': 8, 'away_score': 1, 'tournament': 'Balkan Cup', 'city': 'Bucharest', 'country': 'Romania', 'neutral': False}\n"
     ]
    }
   ],
   "source": [
    "# notebooks/main.ipynb\n",
    "import sys\n",
    "sys.path.append('../scripts')\n",
    "\n",
    "from mongo_connection import get_matches_collection\n",
    "\n",
    "collection = get_matches_collection()\n",
    "\n",
    "result = collection.find_one({\"home_team\": \"Romania\", \"away_team\": \"Greece\"})\n",
    "print(result)\n",
    "\n"
   ]
  }
 ],
 "metadata": {
  "kernelspec": {
   "display_name": "venv",
   "language": "python",
   "name": "python3"
  },
  "language_info": {
   "codemirror_mode": {
    "name": "ipython",
    "version": 3
   },
   "file_extension": ".py",
   "mimetype": "text/x-python",
   "name": "python",
   "nbconvert_exporter": "python",
   "pygments_lexer": "ipython3",
   "version": "3.12.4"
  }
 },
 "nbformat": 4,
 "nbformat_minor": 2
}
