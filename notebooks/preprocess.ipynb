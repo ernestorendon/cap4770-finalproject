{
 "cells": [
  {
   "cell_type": "code",
   "execution_count": 1,
   "metadata": {},
   "outputs": [
    {
     "name": "stdout",
     "output_type": "stream",
     "text": [
      "MongoClient(host=['localhost:27017'], document_class=dict, tz_aware=False, connect=True)\n",
      "MongoClient(host=['localhost:27017'], document_class=dict, tz_aware=False, connect=True)\n"
     ]
    }
   ],
   "source": [
    "import sys\n",
    "sys.path.append('../scripts')\n",
    "\n",
    "from mongo_connection import get_matches_collection\n",
    "from mongo_connection import get_penalties_collection\n",
    "\n",
    "collection = get_matches_collection()\n",
    "drawing = get_penalties_collection()"
   ]
  },
  {
   "cell_type": "code",
   "execution_count": 2,
   "metadata": {},
   "outputs": [
    {
     "data": {
      "text/plain": [
       "<pymongo.command_cursor.CommandCursor at 0x13497362910>"
      ]
     },
     "execution_count": 2,
     "metadata": {},
     "output_type": "execute_result"
    }
   ],
   "source": [
    "home = {\"$expr\": {\"$gt\": [\"$home_score\",\"$away_score\"]}}\n",
    "away = {\"$expr\": {\"$lt\": [\"$home_score\",\"$away_score\"]}}\n",
    "draw = {\"$expr\": {\"$eq\": [\"$home_score\",\"$away_score\"]}}\n",
    "homeW = {\"winner\": \"$home_team\"}\n",
    "awayW = {\"winner\": \"$away_team\"}\n",
    "drawE = {\"winner\": \"Draw\"}\n",
    "\n",
    "collection.aggregate([{\"$match\": home}, {\"$addFields\": homeW}, {\"$merge\": \"football_Matches\"}])\n",
    "collection.aggregate([{\"$match\": away}, {\"$addFields\": awayW}, {\"$merge\": \"football_Matches\"}])\n",
    "collection.aggregate([{\"$match\": draw}, {\"$addFields\": drawE}, {\"$merge\": \"football_Matches\"}])"
   ]
  },
  {
   "cell_type": "code",
   "execution_count": 3,
   "metadata": {},
   "outputs": [],
   "source": [
    "from pymongo import ReturnDocument\n",
    "homes = list(drawing.find({},{\"_id\": 0, \"home_team\": 1}))\n",
    "aways = list(drawing.find({},{\"_id\": 0, \"away_team\": 1}))\n",
    "victors = list(drawing.find({},{\"_id\": 0, \"winner\": 1}))\n",
    "dates = list(drawing.find({}, {\"_id\": 0, \"date\": 1}))\n",
    "z = len(homes)\n",
    "for x in range(z):\n",
    "    has = collection.find_one_and_update(\n",
    "    {\n",
    "        'home_team': homes[x].get(\"home_team\"),\n",
    "        'away_team': aways[x].get(\"away_team\"),\n",
    "        'date': dates[x].get(\"date\")\n",
    "    },\n",
    "    {\n",
    "        \"$set\": {\"winner\": victors[x].get(\"winner\")}\n",
    "    },\n",
    "    return_document = ReturnDocument.AFTER)"
   ]
  }
 ],
 "metadata": {
  "kernelspec": {
   "display_name": "Python 3",
   "language": "python",
   "name": "python3"
  },
  "language_info": {
   "codemirror_mode": {
    "name": "ipython",
    "version": 3
   },
   "file_extension": ".py",
   "mimetype": "text/x-python",
   "name": "python",
   "nbconvert_exporter": "python",
   "pygments_lexer": "ipython3",
   "version": "3.11.9"
  }
 },
 "nbformat": 4,
 "nbformat_minor": 2
}
