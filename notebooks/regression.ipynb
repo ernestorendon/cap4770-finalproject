{
 "cells": [
  {
   "cell_type": "code",
   "execution_count": null,
   "metadata": {},
   "outputs": [],
   "source": [
    "# notebooks/regression.ipynb\n",
    "import sys\n",
    "sys.path.append('../scripts')\n",
    "\n",
    "from mongo_connection import get_matches_collection\n",
    "\n",
    "collection = get_matches_collection()\n",
    "\n",
    "result = collection.find_one({\"home_team\": \"Romania\", \"away_team\": \"Greece\"})\n",
    "print(result)"
   ]
  }
 ],
 "metadata": {
  "kernelspec": {
   "display_name": "Python 3",
   "language": "python",
   "name": "python3"
  },
  "language_info": {
   "codemirror_mode": {
    "name": "ipython",
    "version": 3
   },
   "file_extension": ".py",
   "mimetype": "text/x-python",
   "name": "python",
   "nbconvert_exporter": "python",
   "pygments_lexer": "ipython3",
   "version": "3.12.4"
  }
 },
 "nbformat": 4,
 "nbformat_minor": 2
}
