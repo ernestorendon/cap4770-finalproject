{
 "cells": [
  {
   "cell_type": "markdown",
   "metadata": {},
   "source": [
    "# Classification"
   ]
  },
  {
   "cell_type": "code",
   "execution_count": null,
   "metadata": {},
   "outputs": [],
   "source": [
    "# Import necessary libraries\n",
    "import pandas as pd\n",
    "import sys\n",
    "sys.path.append('../scripts')\n",
    "\n",
    "from mongo_connection import get_matches_collection\n",
    "from sklearn.model_selection import train_test_split\n",
    "from sklearn.linear_model import LogisticRegression\n",
    "from sklearn.metrics import accuracy_score, classification_report, confusion_matrix\n",
    "import matplotlib.pyplot as plt\n",
    "import seaborn as sns\n",
    "\n",
    "\n",
    "# Fetch the data\n",
    "collection = get_matches_collection()\n",
    "matches = pd.DataFrame(list(collection.find()))\n",
    "\n",
    "# Display the first few rows and the columns of the dataframe\n",
    "print(matches.head())\n",
    "print(matches.columns)\n",
    "\n"
   ]
  },
  {
   "cell_type": "markdown",
   "metadata": {},
   "source": [
    "# Data Preparation"
   ]
  },
  {
   "cell_type": "code",
   "execution_count": null,
   "metadata": {},
   "outputs": [],
   "source": [
    "# Drop irrelevant columns and handle missing values\n",
    "matches.drop(columns=['_id', 'date', 'tournament', 'city', 'country', 'neutral'], inplace=True)\n",
    "matches.dropna(inplace=True)\n",
    "\n",
    "# Encode categorical variables (e.g., team names and winner)\n",
    "matches = pd.get_dummies(matches, columns=['home_team', 'away_team', 'winner'], drop_first=True)\n",
    "\n",
    "# Split the data into features (X) and target (y)\n",
    "X = matches.drop(columns=[col for col in matches.columns if 'winner_' in col])\n",
    "y = matches[[col for col in matches.columns if 'winner_' in col]]\n",
    "\n",
    "# Flatten the target variable for logistic regression\n",
    "y = y.idxmax(axis=1)\n",
    "\n",
    "# Split the data into training and testing sets\n",
    "X_train, X_test, y_train, y_test = train_test_split(X, y, test_size=0.2, random_state=42)"
   ]
  },
  {
   "cell_type": "markdown",
   "metadata": {},
   "source": [
    "# Model Training"
   ]
  },
  {
   "cell_type": "code",
   "execution_count": null,
   "metadata": {},
   "outputs": [],
   "source": [
    "# Initialize the logistic regression model\n",
    "model = LogisticRegression(max_iter=1000, solver='lbfgs')\n",
    "# Train the model\n",
    "model.fit(X_train, y_train)\n",
    "\n",
    "# Predict on the test set\n",
    "y_pred = model.predict(X_test)"
   ]
  },
  {
   "cell_type": "markdown",
   "metadata": {},
   "source": [
    "# Model Evaluation"
   ]
  },
  {
   "cell_type": "code",
   "execution_count": null,
   "metadata": {},
   "outputs": [],
   "source": [
    "# Evaluate the model\n",
    "accuracy = accuracy_score(y_test, y_pred)\n",
    "classification_rep = classification_report(y_test, y_pred, zero_division=0)\n",
    "conf_matrix = confusion_matrix(y_test, y_pred)\n",
    "\n",
    "# Print the model's output in the desired format\n",
    "print(f\"Accuracy: {accuracy:.6f}\")\n",
    "print(\"Classification Report:\")\n",
    "print(classification_rep)\n",
    "print(\"Confusion Matrix:\")\n",
    "print(conf_matrix)"
   ]
  },
  {
   "cell_type": "code",
   "execution_count": null,
   "metadata": {},
   "outputs": [],
   "source": [
    "import numpy as np\n",
    "\n",
    "# Calculate the frequency of each class in the test set\n",
    "class_counts = y_test.value_counts()  # Get the frequency of each class\n",
    "\n",
    "# Get the top N classes by frequency\n",
    "top_n_classes = class_counts.index[:10]  # Adjust 10 to your preferred number\n",
    "# Map the class labels to indices\n",
    "class_to_index = {label: index for index, label in enumerate(np.unique(y_test))}\n",
    "\n",
    "# Get the indices corresponding to the top N classes\n",
    "top_n_indices = [class_to_index[class_name] for class_name in top_n_classes]\n",
    "\n",
    "# Filter the confusion matrix to include only the top N classes\n",
    "filtered_conf_matrix = conf_matrix[np.ix_(top_n_indices, top_n_indices)]\n",
    "\n",
    "# Plot the filtered confusion matrix\n",
    "plt.figure(figsize=(10, 7))\n",
    "sns.heatmap(filtered_conf_matrix, annot=True, fmt='d', cmap='Blues',\n",
    "            xticklabels=top_n_classes, yticklabels=top_n_classes,\n",
    "            linewidths=.5)\n",
    "\n",
    "plt.xticks(rotation=90)\n",
    "plt.yticks(rotation=0)\n",
    "plt.xlabel('Predicted')\n",
    "plt.ylabel('Actual')\n",
    "plt.title('Filtered Confusion Matrix Heatmap')\n",
    "plt.savefig('filtered_confusion_matrix_heatmap.png')\n",
    "plt.show()"
   ]
  },
  {
   "cell_type": "code",
   "execution_count": null,
   "metadata": {},
   "outputs": [],
   "source": [
    "# Filter classes with more than a threshold number of occurrences\n",
    "threshold = 50  # Adjust this threshold as needed\n",
    "relevant_classes = [i for i, count in enumerate(class_counts) if count > threshold]\n",
    "\n",
    "# Filter the confusion matrix\n",
    "filtered_conf_matrix = conf_matrix[relevant_classes][:, relevant_classes]\n",
    "filtered_class_labels = np.array(model.classes_)[relevant_classes]\n",
    "\n",
    "# Plot the thresholded confusion matrix\n",
    "plt.figure(figsize=(12, 9))\n",
    "sns.heatmap(filtered_conf_matrix, annot=True, fmt='d', cmap='Blues',\n",
    "            xticklabels=filtered_class_labels, yticklabels=filtered_class_labels,\n",
    "            linewidths=.5)\n",
    "\n",
    "plt.xticks(rotation=90)\n",
    "plt.yticks(rotation=0)\n",
    "plt.xlabel('Predicted')\n",
    "plt.ylabel('Actual')\n",
    "plt.title('Thresholded Confusion Matrix Heatmap')\n",
    "plt.savefig('thresholded_confusion_matrix_heatmap.png')\n",
    "plt.show()\n"
   ]
  }
 ],
 "metadata": {
  "kernelspec": {
   "display_name": "venv",
   "language": "python",
   "name": "python3"
  },
  "language_info": {
   "codemirror_mode": {
    "name": "ipython",
    "version": 3
   },
   "file_extension": ".py",
   "mimetype": "text/x-python",
   "name": "python",
   "nbconvert_exporter": "python",
   "pygments_lexer": "ipython3",
   "version": "3.12.4"
  }
 },
 "nbformat": 4,
 "nbformat_minor": 2
}
